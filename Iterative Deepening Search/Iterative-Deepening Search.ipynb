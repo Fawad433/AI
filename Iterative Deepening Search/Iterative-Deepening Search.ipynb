{
 "cells": [
  {
   "cell_type": "markdown",
   "metadata": {},
   "source": [
    "# Iterative-Deepening Search"
   ]
  },
  {
   "cell_type": "markdown",
   "metadata": {},
   "source": [
    "## Overview"
   ]
  },
  {
   "cell_type": "markdown",
   "metadata": {},
   "source": [
    "Implement the iterative-deepening search algorithm as discussed in our Week 2 lecture notes and as shown in figures 3.17 and 3.18 in our text book. Apply it to the 8-puzzle and a second puzzle of your choice. "
   ]
  },
  {
   "cell_type": "code",
   "execution_count": 10,
   "metadata": {
    "collapsed": false
   },
   "outputs": [
    {
     "name": "stdout",
     "output_type": "stream",
     "text": [
      "<class 'list'>\n",
      "[[1, 2, 3, 4, 0, 5, 6, 7, 8]]\n",
      "[[1, 2, 3, 4, 0, 5, 6, 7, 8]]\n",
      "\n",
      " 1 2 3 \n",
      " 4 0 5 \n",
      " 6 7 8\n"
     ]
    }
   ],
   "source": [
    "import numpy as np\n",
    "import copy\n",
    "\n",
    "def printState_8p(startState):\n",
    "    state = [[startState[0],startState[1],startState[2]],[startState[3],startState[4],startState[5]],[startState[6],startState[7],startState[8]]]\n",
    "    return state\n",
    "\n",
    "def printPath_8p(startState, goalState, path):\n",
    "    print(path)\n",
    "    for i in path: \n",
    "        print (\"\\n\",i[0],i[1],i[2],\"\\n\",i[3],i[4],i[5],\"\\n\",i[6],i[7],i[8])\n",
    "def findBlank_8p(state):\n",
    "    if type(state[0]) == int:\n",
    "        state = printState_8p(state)\n",
    "    i = 0\n",
    "    j = 0\n",
    "    for sublist in state:\n",
    "        for subsub in sublist:\n",
    "            if state[i][j] == 0:\n",
    "                return i,j\n",
    "            j = j + 1\n",
    "        i = i + 1\n",
    "        j = 0\n",
    "\n",
    "def actionsF_8p(state):\n",
    "    if type(state[0]) == int:\n",
    "        state = printState_8p(state)    \n",
    "    i,j = findBlank_8p(state)\n",
    "    if i == 0:\n",
    "        if j == 0:\n",
    "            return ['right','down']\n",
    "        if j == 1:\n",
    "            return ['left','right','down']\n",
    "        if j == 2:\n",
    "            return ['left','down']\n",
    "    if i == 1:\n",
    "        if j == 0:\n",
    "            return ['right','up','down']\n",
    "        if j == 1:\n",
    "            return ['left','right','up','down']\n",
    "        if j == 2:\n",
    "            return ['left','up','down']\n",
    "    if i == 2:\n",
    "        if j == 0:\n",
    "            return ['right','up']\n",
    "        if j == 1:\n",
    "            return ['left','right','up']\n",
    "        if j == 2:\n",
    "            return ['left','up']\n",
    "\n",
    "def takeActionF_8p(state2, action):\n",
    "    if type(state2[0]) == int:\n",
    "        state2 = printState_8p(state2)\n",
    "    state1 = copy.deepcopy(state2)\n",
    "    i,j = findBlank_8p(state1)\n",
    "    if action == 'left':\n",
    "        temp = state1[i][j-1]\n",
    "        state1[i][j-1] = 0\n",
    "        state1[i][j] = temp\n",
    "        state1 = [item for sublist in state1 for item in sublist]\n",
    "        return state1\n",
    "    if action == 'right':\n",
    "        temp = state1[i][j+1]\n",
    "        state1[i][j+1] = 0\n",
    "        state1[i][j] = temp\n",
    "        state1 = [item for sublist in state1 for item in sublist]\n",
    "        return state1\n",
    "    if action == 'up':\n",
    "        temp = state1[i-1][j]\n",
    "        state1[i-1][j] = 0\n",
    "        state1[i][j] = temp\n",
    "        state1 = [item for sublist in state1 for item in sublist]\n",
    "        return state1\n",
    "    if action == 'down':\n",
    "        temp = state1[i+1][j]\n",
    "        state1[i+1][j] = 0\n",
    "        state1[i][j] = temp\n",
    "        state1 = [item for sublist in state1 for item in sublist]\n",
    "        return state1\n",
    "\n",
    "def depthLimitedSearch(state, goalState, actionsF, takeActionF, depthLimit):\n",
    "    if type(state[0]) == int:\n",
    "        state = printState_8p(state)\n",
    "    if type(goalState[0]) == int:\n",
    "        goalState = printState_8p(goalState)\n",
    "    if state == goalState:\n",
    "        return []\n",
    "    if depthLimit == 0:\n",
    "        return 'cutoff'\n",
    "    cutoffOccurred = False\n",
    "    for action in actionsF(state):\n",
    "        childState = takeActionF(state, action)\n",
    "        result = depthLimitedSearch(childState, goalState, actionsF, takeActionF, depthLimit-1)\n",
    "        if result == 'cutoff':\n",
    "            cutoffOccurred = True\n",
    "        elif result != 'failure':\n",
    "            result.insert(0,childState)\n",
    "            #result.reverse()\n",
    "            return result\n",
    "    if cutoffOccurred:\n",
    "        return 'cutoff'\n",
    "    else:\n",
    "        return 'failure'       \n",
    "\n",
    "def iterativeDeepeningSearch(startState, goalState, actionsF, takeActionF, maxDepth):\n",
    "    if type(startState[0]) == int:\n",
    "        startState = printState_8p(startState)\n",
    "    if type(goalState[0]) == int:\n",
    "        goalState = printState_8p(goalState)\n",
    "    for depth in range(maxDepth):\n",
    "        result = depthLimitedSearch(startState, goalState, actionsF, takeActionF, depth)\n",
    "        if result is 'failure':\n",
    "            return 'failure'\n",
    "        if result is not 'cutoff':\n",
    "            print(type(startState))\n",
    "            if type(startState) == str:\n",
    "                result.insert(0,startState) \n",
    "            else:\n",
    "                state1 = [item for sublist in startState for item in sublist]\n",
    "                result.insert(0,state1)       \n",
    "            return result\n",
    "    return 'cutoff'\n",
    "#startState = [1, 0, 3, 4, 2, 5, 6, 7, 8]\n",
    "#state = printState_8p(startState)  # not a required function for this assignment, but it helps when implementing printPath_8p\n",
    "##findBlank_8p(state)\n",
    "##actionsF_8p(state)\n",
    "#state2 = copy.deepcopy(state)\n",
    "#\n",
    "#goalState = takeActionF_8p(state2, 'down')\n",
    "#print(state)\n",
    "#\n",
    "#\n",
    "#path = depthLimitedSearch(state, goalState, actionsF_8p, takeActionF_8p, 3)\n",
    "#print(path)\n",
    "startState = [1, 0, 3, 4, 2, 5, 6, 7, 8]\n",
    "state = printState_8p(startState)\n",
    "\n",
    "import random\n",
    "random.choice(['left', 'right'])\n",
    "state2 = copy.deepcopy(state)\n",
    "goalState = takeActionF_8p(state2, 'down')\n",
    "\n",
    "def randomStartState(goalState, actionsF, takeActionF, nSteps):\n",
    "    state = goalState\n",
    "    for i in range(nSteps):\n",
    "        state = takeActionF(state, random.choice(actionsF(state)))\n",
    "    return state\n",
    "startState = randomStartState(goalState, actionsF_8p, takeActionF_8p, 10)\n",
    "#path = depthLimitedSearch(state, goalState, actionsF_8p, takeActionF_8p, 10)\n",
    "path = iterativeDeepeningSearch(startState, goalState, actionsF_8p, takeActionF_8p, 20)\n",
    "print(path)\n",
    "printPath_8p(state, goalState, path)"
   ]
  },
  {
   "cell_type": "code",
   "execution_count": null,
   "metadata": {
    "collapsed": true
   },
   "outputs": [],
   "source": [
    "import numpy as np\n",
    "import copy\n",
    "\n",
    "def printState_8p(startState):\n",
    "    state = [[startState[0],startState[1],startState[2]],[startState[3],startState[4],startState[5]],[startState[6],startState[7],startState[8]]]\n",
    "    return state\n",
    "\n",
    "def printPath_8p(startState, goalState, path):\n",
    "    print(path)\n",
    "    for i in path: \n",
    "        print (\"\\n\",i[0],i[1],i[2],\"\\n\",i[3],i[4],i[5],\"\\n\",i[6],i[7],i[8])\n",
    "def findBlank_8p(state):\n",
    "    if type(state[0]) == int:\n",
    "        state = printState_8p(state)\n",
    "    i = 0\n",
    "    j = 0\n",
    "    for sublist in state:\n",
    "        for subsub in sublist:\n",
    "            if state[i][j] == 0:\n",
    "                return i,j\n",
    "            j = j + 1\n",
    "        i = i + 1\n",
    "        j = 0\n",
    "\n",
    "def actionsF_8p(state):\n",
    "    if type(state[0]) == int:\n",
    "        state = printState_8p(state)    \n",
    "    i,j = findBlank_8p(state)\n",
    "    if i == 0:\n",
    "        if j == 0:\n",
    "            return ['right','down']\n",
    "        if j == 1:\n",
    "            return ['left','right','down']\n",
    "        if j == 2:\n",
    "            return ['left','down']\n",
    "    if i == 1:\n",
    "        if j == 0:\n",
    "            return ['right','up','down']\n",
    "        if j == 1:\n",
    "            return ['left','right','up','down']\n",
    "        if j == 2:\n",
    "            return ['left','up','down']\n",
    "    if i == 2:\n",
    "        if j == 0:\n",
    "            return ['right','up']\n",
    "        if j == 1:\n",
    "            return ['left','right','up']\n",
    "        if j == 2:\n",
    "            return ['left','up']\n",
    "\n",
    "def takeActionF_8p(state2, action):\n",
    "    if type(state2[0]) == int:\n",
    "        state2 = printState_8p(state2)\n",
    "    state1 = copy.deepcopy(state2)\n",
    "    i,j = findBlank_8p(state1)\n",
    "    if action == 'left':\n",
    "        temp = state1[i][j-1]\n",
    "        state1[i][j-1] = 0\n",
    "        state1[i][j] = temp\n",
    "        state1 = [item for sublist in state1 for item in sublist]\n",
    "        return state1\n",
    "    if action == 'right':\n",
    "        temp = state1[i][j+1]\n",
    "        state1[i][j+1] = 0\n",
    "        state1[i][j] = temp\n",
    "        state1 = [item for sublist in state1 for item in sublist]\n",
    "        return state1\n",
    "    if action == 'up':\n",
    "        temp = state1[i-1][j]\n",
    "        state1[i-1][j] = 0\n",
    "        state1[i][j] = temp\n",
    "        state1 = [item for sublist in state1 for item in sublist]\n",
    "        return state1\n",
    "    if action == 'down':\n",
    "        temp = state1[i+1][j]\n",
    "        state1[i+1][j] = 0\n",
    "        state1[i][j] = temp\n",
    "        state1 = [item for sublist in state1 for item in sublist]\n",
    "        return state1\n",
    "\n",
    "def depthLimitedSearch(state, goalState, actionsF, takeActionF, depthLimit):\n",
    "    if type(state[0]) == int:\n",
    "        state = printState_8p(state)\n",
    "    if type(goalState[0]) == int:\n",
    "        goalState = printState_8p(goalState)\n",
    "    if state == goalState:\n",
    "        return []\n",
    "    if depthLimit == 0:\n",
    "        return 'cutoff'\n",
    "    cutoffOccurred = False\n",
    "    for action in actionsF(state):\n",
    "        childState = takeActionF(state, action)\n",
    "        result = depthLimitedSearch(childState, goalState, actionsF, takeActionF, depthLimit-1)\n",
    "        if result == 'cutoff':\n",
    "            cutoffOccurred = True\n",
    "        elif result != 'failure':\n",
    "            result.insert(0,childState)\n",
    "            #result.reverse()\n",
    "            return result\n",
    "    if cutoffOccurred:\n",
    "        return 'cutoff'\n",
    "    else:\n",
    "        return 'failure'       \n",
    "\n",
    "def iterativeDeepeningSearch(startState, goalState, actionsF, takeActionF, maxDepth):\n",
    "    if type(startState[0]) == int:\n",
    "        startState = printState_8p(startState)\n",
    "    if type(goalState[0]) == int:\n",
    "        goalState = printState_8p(goalState)\n",
    "    for depth in range(maxDepth):\n",
    "        result = depthLimitedSearch(startState, goalState, actionsF, takeActionF, depth)\n",
    "        if result is 'failure':\n",
    "            return 'failure'\n",
    "        if result is not 'cutoff':\n",
    "            \n",
    "            state1 = [item for sublist in startState for item in sublist]\n",
    "            result.insert(0,state1)       \n",
    "            return result\n",
    "    return 'cutoff'\n"
   ]
  },
  {
   "cell_type": "markdown",
   "metadata": {},
   "source": [
    "Here are some example results."
   ]
  },
  {
   "cell_type": "code",
   "execution_count": null,
   "metadata": {
    "collapsed": false,
    "scrolled": true
   },
   "outputs": [],
   "source": [
    "startState = [1, 0, 3, 4, 2, 5, 6, 7, 8]\n",
    "state = printState_8p(startState)  # not a required function for this assignment, but it helps when implementing printPath_8p\n",
    "state1 = copy.deepcopy(state)\n",
    "goalState = takeActionF_8p(state1, 'down')\n",
    "path = depthLimitedSearch(state, goalState, actionsF_8p, takeActionF_8p, 3)\n",
    "path"
   ]
  },
  {
   "cell_type": "markdown",
   "metadata": {},
   "source": [
    "Notice that `depthLimitedSearch` result is missing the start state.  This is inserted by `iterativeDeepeningSearch`.\n",
    "\n",
    "But, when we try `iterativeDeepeningSearch` to do the same search, it finds a shorter path!"
   ]
  },
  {
   "cell_type": "code",
   "execution_count": null,
   "metadata": {
    "collapsed": false,
    "scrolled": true
   },
   "outputs": [],
   "source": [
    "path = iterativeDeepeningSearch(state, goalState, actionsF_8p, takeActionF_8p, 3)\n",
    "path"
   ]
  },
  {
   "cell_type": "markdown",
   "metadata": {},
   "source": [
    "Also notice that the successor states are lists, not tuples.  This is okay, because the search functions for this assignment do not"
   ]
  },
  {
   "cell_type": "code",
   "execution_count": null,
   "metadata": {
    "collapsed": false
   },
   "outputs": [],
   "source": [
    "startState = [4, 7, 2, 1, 6, 5, 0, 3, 8]\n",
    "path = iterativeDeepeningSearch(state, goalState, actionsF_8p, takeActionF_8p, 3)\n",
    "path"
   ]
  },
  {
   "cell_type": "code",
   "execution_count": null,
   "metadata": {
    "collapsed": false
   },
   "outputs": [],
   "source": [
    "startState = [4, 7, 2, 1, 6, 5, 0, 3, 8]\n",
    "path = iterativeDeepeningSearch(state, goalState, actionsF_8p, takeActionF_8p, 5)\n",
    "path"
   ]
  },
  {
   "cell_type": "markdown",
   "metadata": {},
   "source": [
    "Humm...maybe we can't reach the goal state from this state.  We need a way to randomly generate a valid start state."
   ]
  },
  {
   "cell_type": "code",
   "execution_count": null,
   "metadata": {
    "collapsed": true
   },
   "outputs": [],
   "source": [
    "import random"
   ]
  },
  {
   "cell_type": "code",
   "execution_count": null,
   "metadata": {
    "collapsed": false
   },
   "outputs": [],
   "source": [
    "random.choice(['left', 'right'])"
   ]
  },
  {
   "cell_type": "code",
   "execution_count": null,
   "metadata": {
    "collapsed": true
   },
   "outputs": [],
   "source": [
    "def randomStartState(goalState, actionsF, takeActionF, nSteps):\n",
    "    state = goalState\n",
    "    for i in range(nSteps):\n",
    "        state = takeActionF(state, random.choice(actionsF(state)))\n",
    "    return state"
   ]
  },
  {
   "cell_type": "code",
   "execution_count": null,
   "metadata": {
    "collapsed": false
   },
   "outputs": [],
   "source": [
    "startState = randomStartState(goalState, actionsF_8p, takeActionF_8p, 10)\n",
    "startState\n",
    "#state = printState_8p(startState)"
   ]
  },
  {
   "cell_type": "code",
   "execution_count": null,
   "metadata": {
    "collapsed": false
   },
   "outputs": [],
   "source": [
    "path = iterativeDeepeningSearch(startState, goalState, actionsF_8p, takeActionF_8p, 20)\n",
    "path"
   ]
  },
  {
   "cell_type": "markdown",
   "metadata": {},
   "source": [
    "Let's print out the state sequence in a readable form."
   ]
  },
  {
   "cell_type": "code",
   "execution_count": null,
   "metadata": {
    "collapsed": false
   },
   "outputs": [],
   "source": [
    "for p in path:\n",
    "    printState_8p(p)\n",
    "    print()"
   ]
  },
  {
   "cell_type": "markdown",
   "metadata": {},
   "source": [
    "Here is one way to format the search problem and solution in a readable form."
   ]
  },
  {
   "cell_type": "code",
   "execution_count": null,
   "metadata": {
    "collapsed": false
   },
   "outputs": [],
   "source": [
    "printPath_8p(state, goalState, path)"
   ]
  }
 ],
 "metadata": {
  "anaconda-cloud": {},
  "kernelspec": {
   "display_name": "Python [conda root]",
   "language": "python",
   "name": "conda-root-py"
  },
  "language_info": {
   "codemirror_mode": {
    "name": "ipython",
    "version": 3
   },
   "file_extension": ".py",
   "mimetype": "text/x-python",
   "name": "python",
   "nbconvert_exporter": "python",
   "pygments_lexer": "ipython3",
   "version": "3.5.2"
  }
 },
 "nbformat": 4,
 "nbformat_minor": 1
}
